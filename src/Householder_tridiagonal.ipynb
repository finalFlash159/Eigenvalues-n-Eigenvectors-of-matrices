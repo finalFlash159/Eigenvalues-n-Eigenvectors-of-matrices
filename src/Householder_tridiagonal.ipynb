{
 "cells": [
  {
   "cell_type": "code",
   "execution_count": 8,
   "metadata": {},
   "outputs": [],
   "source": [
    "import numpy as np"
   ]
  },
  {
   "cell_type": "code",
   "execution_count": 9,
   "metadata": {},
   "outputs": [
    {
     "name": "stdout",
     "output_type": "stream",
     "text": [
      "Ma trận đối xứng bậc 5:\n",
      "[[6 2 5 6 8]\n",
      " [2 6 6 6 6]\n",
      " [5 6 9 5 5]\n",
      " [6 6 5 2 3]\n",
      " [8 6 5 3 4]]\n"
     ]
    }
   ],
   "source": [
    "# Tạo một ma trận ngẫu nhiên bậc 5\n",
    "np.random.seed(0)  # Đặt seed để tái hiện kết quả\n",
    "A = np.random.randint(1, 10, size=(5, 5))\n",
    "\n",
    "# Tạo ma trận đối xứng\n",
    "A = (A + A.T) // 2\n",
    "\n",
    "print(\"Ma trận đối xứng bậc 5:\")\n",
    "print(A)"
   ]
  },
  {
   "cell_type": "code",
   "execution_count": 10,
   "metadata": {},
   "outputs": [
    {
     "data": {
      "text/plain": [
       "array([[6, 2, 5, 6, 8],\n",
       "       [2, 6, 6, 6, 6],\n",
       "       [5, 6, 9, 5, 5],\n",
       "       [6, 6, 5, 2, 3],\n",
       "       [8, 6, 5, 3, 4]])"
      ]
     },
     "execution_count": 10,
     "metadata": {},
     "output_type": "execute_result"
    }
   ],
   "source": [
    "A"
   ]
  },
  {
   "cell_type": "code",
   "execution_count": 11,
   "metadata": {},
   "outputs": [
    {
     "name": "stdout",
     "output_type": "stream",
     "text": [
      "Trị riêng của ma trận A:\n",
      "[26.45002 -6.09195  4.8394  -0.3716   2.17414]\n"
     ]
    }
   ],
   "source": [
    "#tính trị riêng của ma trận bằng numpy\n",
    "eigenvalues_np = np.linalg.eigvals(A)\n",
    "print(\"Trị riêng của ma trận A:\")\n",
    "print(np.round(eigenvalues_np, 5))"
   ]
  },
  {
   "cell_type": "markdown",
   "metadata": {},
   "source": [
    "## Thuật toán householder"
   ]
  },
  {
   "cell_type": "code",
   "execution_count": 12,
   "metadata": {},
   "outputs": [
    {
     "name": "stdout",
     "output_type": "stream",
     "text": [
      "Ma trận ba đường chéo:\n",
      "[[  6.      -11.35782  -0.        0.       -0.     ]\n",
      " [-11.35782  15.66667  10.13118  -0.       -0.     ]\n",
      " [ -0.       10.13118   3.45025   1.3092   -0.     ]\n",
      " [  0.        0.        1.3092   -0.04993  -0.77546]\n",
      " [ -0.       -0.       -0.       -0.77546   1.93302]]\n"
     ]
    }
   ],
   "source": [
    "# lấy số bậc của ma trận \n",
    "n = A.shape[0]\n",
    "\n",
    "# Thuật toán Householder để chuyển về dạng ba đường chéo\n",
    "for i in range(n - 2):\n",
    "    # Lấy vector cột cần loại bỏ phần tử\n",
    "    x = A[i+1:, i]\n",
    "\n",
    "    # Tính toán giá trị a\n",
    "    a = -np.sign(x[0]) * np.linalg.norm(x)\n",
    "\n",
    "    # Tạo vector Householder v\n",
    "    v = x - a * np.eye(len(x), 1).reshape(-1)\n",
    "    v = v / np.linalg.norm(v)\n",
    "    v = v.reshape(-1, 1)\n",
    "\n",
    "    # Tạo ma trận Householder H cho phần con\n",
    "    H = np.eye(len(v)) - 2 * v @ v.T\n",
    "    # Mở rộng H để khớp với kích thước A\n",
    "    H_full = np.eye(n)\n",
    "    H_full[i+1:, i+1:] = H\n",
    "\n",
    "    # Biến đổi ma trận A\n",
    "    A = H_full @ A @ H_full\n",
    "\n",
    "# Kết quả cuối cùng\n",
    "print(\"Ma trận ba đường chéo:\")\n",
    "print(np.round(A,5))\n"
   ]
  },
  {
   "cell_type": "markdown",
   "metadata": {},
   "source": [
    "### Kiểm tra lạị trị riêng so với ma trận ban đầu "
   ]
  },
  {
   "cell_type": "code",
   "execution_count": 13,
   "metadata": {},
   "outputs": [
    {
     "name": "stdout",
     "output_type": "stream",
     "text": [
      "Trị riêng của ma trận A:\n",
      "[26.45002 -6.09195  4.8394  -0.3716   2.17414]\n",
      "Trị riêng của ma trận A ban đầu:\n",
      "[26.45002 -6.09195  4.8394  -0.3716   2.17414]\n"
     ]
    }
   ],
   "source": [
    "householder_enginevalues = np.linalg.eigvals(A)\n",
    "print(\"Trị riêng của ma trận A:\")\n",
    "print(np.round(householder_enginevalues, 5))\n",
    "print(\"Trị riêng của ma trận A ban đầu:\")\n",
    "print(np.round(eigenvalues_np, 5))"
   ]
  },
  {
   "cell_type": "code",
   "execution_count": null,
   "metadata": {},
   "outputs": [],
   "source": []
  },
  {
   "cell_type": "code",
   "execution_count": null,
   "metadata": {},
   "outputs": [],
   "source": []
  },
  {
   "cell_type": "code",
   "execution_count": null,
   "metadata": {},
   "outputs": [],
   "source": []
  }
 ],
 "metadata": {
  "kernelspec": {
   "display_name": "base",
   "language": "python",
   "name": "python3"
  },
  "language_info": {
   "codemirror_mode": {
    "name": "ipython",
    "version": 3
   },
   "file_extension": ".py",
   "mimetype": "text/x-python",
   "name": "python",
   "nbconvert_exporter": "python",
   "pygments_lexer": "ipython3",
   "version": "3.12.4"
  }
 },
 "nbformat": 4,
 "nbformat_minor": 2
}
